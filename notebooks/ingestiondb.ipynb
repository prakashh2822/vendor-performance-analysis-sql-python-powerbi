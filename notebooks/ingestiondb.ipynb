{
 "cells": [
  {
   "cell_type": "code",
   "execution_count": 1,
   "id": "f490d339-027d-449f-95e8-b171157e0c17",
   "metadata": {},
   "outputs": [],
   "source": [
    "import pandas as pd\n",
    "import numpy as np\n",
    "import matplotlib.pyplot as plt\n",
    "import seaborn as sns\n",
    "import os\n",
    "import time\n",
    "from sqlalchemy import create_engine\n",
    "import logging\n",
    "\n",
    "os.makedirs(\"logs\", exist_ok=True)\n",
    "# Configure logging\n",
    "logging.basicConfig(\n",
    "    filename=\"logs/ingestion_db.log\",\n",
    "    level=logging.DEBUG,\n",
    "    format=\"%(asctime)s-%(levelname)s-%(message)s\",\n",
    "    filemode=\"a\"\n",
    ")\n",
    "\n",
    "# Create SQLite engine\n",
    "engine = create_engine('sqlite:///inventory.db')\n",
    "\n",
    "# Function to ingest CSV in chunks\n",
    "def ingest_db(data, table_name, conn, if_exists=\"replace\", chunksize=50000):\n",
    "    \"\"\"\n",
    "    Ingest either a pandas DataFrame or a CSV file into SQLite database.\n",
    "    \"\"\"\n",
    "    if isinstance(data, pd.DataFrame):\n",
    "        # Directly insert DataFrame\n",
    "        data.to_sql(table_name, con=conn, if_exists=if_exists, index=False, chunksize=chunksize)\n",
    "    elif isinstance(data, str):\n",
    "        # Assume it's a CSV path\n",
    "        for i, chunk in enumerate(pd.read_csv(data, chunksize=chunksize)):\n",
    "            if_exists_mode = \"replace\" if i == 0 else \"append\"\n",
    "            chunk.to_sql(table_name, con=conn, if_exists=if_exists_mode, index=False)\n",
    "    else:\n",
    "        raise TypeError(\"ingest_db only accepts a DataFrame or CSV file path\")\n",
    "\n",
    "# Function to load all CSV files from folder\n",
    "def load_raw_data():\n",
    "    \"\"\"\n",
    "    This function will load CSV files into SQLite in chunks\n",
    "    to avoid memory overload and ingest into db.\n",
    "    \"\"\"\n",
    "    start = time.time()\n",
    "    data_dir = r\"C:\\Users\\user\\practice projects\\project 3\\data\"\n",
    "    \n",
    "    for file in os.listdir(data_dir):\n",
    "        if file.endswith(\".csv\"):\n",
    "            file_path = os.path.join(data_dir, file)\n",
    "            table_name = os.path.splitext(file)[0]  # filename without .csv\n",
    "            \n",
    "            logging.info(f\"Processing file: {file} -> Table: {table_name}\")\n",
    "            \n",
    "            try:\n",
    "                ingest_db(file_path, table_name, engine)\n",
    "                end = time.time()\n",
    "                totaltime = (end - start) / 60\n",
    "                logging.info(f\"Successfully ingested {file} into table {table_name} \"\n",
    "                             f\"(elapsed time: {totaltime:.2f} minutes)\")\n",
    "            except Exception as e:\n",
    "                logging.error(f\"Failed to ingest {file} into {table_name}: {e}\")\n",
    "\n",
    "\n",
    "# Main entry point\n",
    "if __name__ == '__main__':\n",
    "    load_raw_data()\n"
   ]
  },
  {
   "cell_type": "code",
   "execution_count": null,
   "id": "6438b254-fb91-4769-8b36-92b8ce64f318",
   "metadata": {},
   "outputs": [],
   "source": []
  },
  {
   "cell_type": "code",
   "execution_count": 17,
   "id": "32b85eee-8f6d-4a37-ad88-c49b1f2f44d4",
   "metadata": {},
   "outputs": [
    {
     "name": "stdout",
     "output_type": "stream",
     "text": [
      ".ipynb_checkpoints\n",
      "begin_inventory.csv\n",
      "end_inventory.csv\n",
      "purchases.csv\n",
      "purchase_prices.csv\n",
      "sales.csv\n",
      "Untitled.ipynb\n",
      "vendor_invoice.csv\n"
     ]
    }
   ],
   "source": [
    "for file in os.listdir(r\"C:\\Users\\user\\practice projects\\project 3\\data\"):\n",
    "   print(file)\n",
    "        "
   ]
  },
  {
   "cell_type": "code",
   "execution_count": null,
   "id": "83a6e954-8fbd-4bc1-ba1c-6e39b14bf696",
   "metadata": {},
   "outputs": [],
   "source": [
    "print(os.getcwd())\n"
   ]
  },
  {
   "cell_type": "code",
   "execution_count": 27,
   "id": "c0d2b1e1-bb27-478e-afd5-2c4c0a559265",
   "metadata": {},
   "outputs": [
    {
     "name": "stdout",
     "output_type": "stream",
     "text": [
      "begin_inventory.csv\n",
      "✅ Ingested begin_inventory from C:\\Users\\user\\practice projects\\project 3\\data\\begin_inventory.csv\n",
      "end_inventory.csv\n",
      "✅ Ingested end_inventory from C:\\Users\\user\\practice projects\\project 3\\data\\end_inventory.csv\n",
      "purchases.csv\n",
      "✅ Ingested purchases from C:\\Users\\user\\practice projects\\project 3\\data\\purchases.csv\n",
      "purchase_prices.csv\n",
      "✅ Ingested purchase_prices from C:\\Users\\user\\practice projects\\project 3\\data\\purchase_prices.csv\n",
      "sales.csv\n",
      "✅ Ingested sales from C:\\Users\\user\\practice projects\\project 3\\data\\sales.csv\n",
      "vendor_invoice.csv\n",
      "✅ Ingested vendor_invoice from C:\\Users\\user\\practice projects\\project 3\\data\\vendor_invoice.csv\n"
     ]
    }
   ],
   "source": [
    "\n",
    "def load_raw_data():\n",
    "    '''this function will load the csv into sqlite in chunks to avoid the memory overload and ingest into db'''\n",
    "    start=time.time()\n",
    "    data_dir = r\"C:\\Users\\user\\practice projects\\project 3\\data\"\n",
    "    for file in os.listdir(data_dir):\n",
    "        if file.endswith(\".csv\"):\n",
    "            \n",
    "            file_path = os.path.join(data_dir, file)\n",
    "            table_name = os.path.splitext(file)[0]  # filename without .csv\n",
    "            logging.info(f\"Processing file: {file} -> Table: {table_name}\")\n",
    "            \n",
    "            try:\n",
    "                ingest_db(file_path, table_name, engine) \n",
    "                 end=end.time()\n",
    "                 totaltime=(start-end)/60                               # ✅ pass path, not df\n",
    "                logging.info(f\"Successfully ingested {file} into table {table_name}\")\n",
    "            except Exception as e:\n",
    "                logging.error(f\"Failed to ingest {file} into {table_name}: {e}\")\n",
    "\n",
    "            \n"
   ]
  },
  {
   "cell_type": "code",
   "execution_count": null,
   "id": "5cc42ca3-0b7c-4b9b-9a85-c914e5cbb9d9",
   "metadata": {},
   "outputs": [],
   "source": []
  }
 ],
 "metadata": {
  "kernelspec": {
   "display_name": "Python [conda env:base] *",
   "language": "python",
   "name": "conda-base-py"
  },
  "language_info": {
   "codemirror_mode": {
    "name": "ipython",
    "version": 3
   },
   "file_extension": ".py",
   "mimetype": "text/x-python",
   "name": "python",
   "nbconvert_exporter": "python",
   "pygments_lexer": "ipython3",
   "version": "3.12.7"
  }
 },
 "nbformat": 4,
 "nbformat_minor": 5
}
